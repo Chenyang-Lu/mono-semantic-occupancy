{
 "cells": [
  {
   "cell_type": "code",
   "execution_count": 39,
   "metadata": {},
   "outputs": [
    {
     "name": "stdout",
     "output_type": "stream",
     "text": [
      "nn_pred :\n",
      "Mean pixel level accuracy:  0.0000\n",
      "Mean IU:                    0.0000\n"
     ]
    }
   ],
   "source": [
    "import numpy as np\n",
    "import scipy.misc as misc\n",
    "import os\n",
    "import glob\n",
    "import py_img_seg_eval.eval_segm as eval_segm\n",
    "import imageio\n",
    "\n",
    "dataset_dir = 'dataset/Cityscapes'\n",
    "\n",
    "NUM_CLASSES = 4\n",
    "NUM_EVAL_SAMPLES = 70\n",
    "\n",
    "FOVmsk = imageio.imread('misc/mask_64.png')\n",
    "FOVmsk = FOVmsk[:, :, 0]\n",
    "valid_FOV_index = FOVmsk.reshape(-1) != 0\n",
    "\n",
    "map_dir = os.path.join(dataset_dir, 'Semantic_Occupancy_Grid_Multi_64', 'val')\n",
    "pred_folder = 'Semantic_Occupancy_Grid_Multi_64/val/frankfurt'\n",
    "gt_dir = os.path.join(dataset_dir, 'Cityscapes_frankfurt_GT')\n",
    "gt_list = sorted(glob.glob(gt_dir+'/*manual.png'))\n",
    "\n",
    "\n",
    "surfix = ['nn_pred']\n",
    "\n",
    "for item in surfix:\n",
    "    pred_list = [dataset_dir+'/'+pred_folder+file_name[-43:-10]+ item + '.png' for file_name in gt_list]\n",
    "    raw_gt_list = [dataset_dir+'/'+pred_folder+file_name[-43:-11]+ '.png' for file_name in gt_list]\n",
    "\n",
    "\n",
    "    files = list(zip(gt_list, pred_list, raw_gt_list))\n",
    "    pixel_accuracy = [[]]\n",
    "    mean_accuracy = [[]]\n",
    "    mean_IU = [[]]\n",
    "    frequency_weighted_IU = [[]]\n",
    "    a = []\n",
    "    for current_files in files:\n",
    "\n",
    "        current_gt = imageio.imread(current_files[0])-1\n",
    "        current_gt = np.minimum(current_gt, 4)\n",
    "        current_nn = imageio.imread(current_files[1])\n",
    "        raw_gt = imageio.imread(current_files[2])\n",
    "\n",
    "        valid_index_0 = raw_gt.reshape(-1) != 4\n",
    "        valid_index_1 = current_gt.reshape(-1) != 4\n",
    "        valid_index  = valid_index_0*valid_index_1*valid_FOV_index\n",
    "\n",
    "        current_gt = current_gt.reshape(-1)[valid_index]\n",
    "        current_nn = current_nn.reshape(-1)[valid_index]\n",
    "\n",
    "        current_gt = current_gt.reshape(1, -1)\n",
    "        current_nn = current_nn.reshape(1, -1)\n",
    "\n",
    "        mean_accuracy[0].append(eval_segm.mean_accuracy(current_nn, current_gt))\n",
    "        mean_IU[0].append(eval_segm.mean_IU(current_nn, current_gt))\n",
    "\n",
    "\n",
    "    mean_accuracy_avg = np.sum(np.asarray(mean_accuracy), axis = 1) / NUM_EVAL_SAMPLES\n",
    "    mean_IU_avg = np.sum(np.asarray(mean_IU), axis = 1) / NUM_EVAL_SAMPLES\n",
    "\n",
    "\n",
    "    print(item, ':')\n",
    "    print('Mean pixel level accuracy:  %.4f'% mean_accuracy_avg[0])\n",
    "    print('Mean IU:                    %.4f'% mean_IU_avg[0])"
   ]
  },
  {
   "cell_type": "code",
   "execution_count": 25,
   "metadata": {},
   "outputs": [],
   "source": []
  }
 ],
 "metadata": {
  "anaconda-cloud": {},
  "kernelspec": {
   "display_name": "Python 3",
   "language": "python",
   "name": "python3"
  },
  "language_info": {
   "codemirror_mode": {
    "name": "ipython",
    "version": 3
   },
   "file_extension": ".py",
   "mimetype": "text/x-python",
   "name": "python",
   "nbconvert_exporter": "python",
   "pygments_lexer": "ipython3",
   "version": "3.6.8"
  }
 },
 "nbformat": 4,
 "nbformat_minor": 2
}
